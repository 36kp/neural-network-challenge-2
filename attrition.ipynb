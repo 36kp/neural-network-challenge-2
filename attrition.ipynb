{
  "cells": [
    {
      "cell_type": "markdown",
      "metadata": {
        "id": "alIIEHibGc3M"
      },
      "source": [
        "## Part 1: Preprocessing"
      ]
    },
    {
      "cell_type": "code",
      "execution_count": 16,
      "metadata": {
        "colab": {
          "base_uri": "https://localhost:8080/",
          "height": 325
        },
        "id": "6eDUJ4NtGc3P",
        "outputId": "2480098c-135c-4cbf-9552-018494ee8ff5"
      },
      "outputs": [
        {
          "data": {
            "text/html": [
              "<div>\n",
              "<style scoped>\n",
              "    .dataframe tbody tr th:only-of-type {\n",
              "        vertical-align: middle;\n",
              "    }\n",
              "\n",
              "    .dataframe tbody tr th {\n",
              "        vertical-align: top;\n",
              "    }\n",
              "\n",
              "    .dataframe thead th {\n",
              "        text-align: right;\n",
              "    }\n",
              "</style>\n",
              "<table border=\"1\" class=\"dataframe\">\n",
              "  <thead>\n",
              "    <tr style=\"text-align: right;\">\n",
              "      <th></th>\n",
              "      <th>Age</th>\n",
              "      <th>Attrition</th>\n",
              "      <th>BusinessTravel</th>\n",
              "      <th>Department</th>\n",
              "      <th>DistanceFromHome</th>\n",
              "      <th>Education</th>\n",
              "      <th>EducationField</th>\n",
              "      <th>EnvironmentSatisfaction</th>\n",
              "      <th>HourlyRate</th>\n",
              "      <th>JobInvolvement</th>\n",
              "      <th>...</th>\n",
              "      <th>PerformanceRating</th>\n",
              "      <th>RelationshipSatisfaction</th>\n",
              "      <th>StockOptionLevel</th>\n",
              "      <th>TotalWorkingYears</th>\n",
              "      <th>TrainingTimesLastYear</th>\n",
              "      <th>WorkLifeBalance</th>\n",
              "      <th>YearsAtCompany</th>\n",
              "      <th>YearsInCurrentRole</th>\n",
              "      <th>YearsSinceLastPromotion</th>\n",
              "      <th>YearsWithCurrManager</th>\n",
              "    </tr>\n",
              "  </thead>\n",
              "  <tbody>\n",
              "    <tr>\n",
              "      <th>0</th>\n",
              "      <td>41</td>\n",
              "      <td>Yes</td>\n",
              "      <td>Travel_Rarely</td>\n",
              "      <td>Sales</td>\n",
              "      <td>1</td>\n",
              "      <td>2</td>\n",
              "      <td>Life Sciences</td>\n",
              "      <td>2</td>\n",
              "      <td>94</td>\n",
              "      <td>3</td>\n",
              "      <td>...</td>\n",
              "      <td>3</td>\n",
              "      <td>1</td>\n",
              "      <td>0</td>\n",
              "      <td>8</td>\n",
              "      <td>0</td>\n",
              "      <td>1</td>\n",
              "      <td>6</td>\n",
              "      <td>4</td>\n",
              "      <td>0</td>\n",
              "      <td>5</td>\n",
              "    </tr>\n",
              "    <tr>\n",
              "      <th>1</th>\n",
              "      <td>49</td>\n",
              "      <td>No</td>\n",
              "      <td>Travel_Frequently</td>\n",
              "      <td>Research &amp; Development</td>\n",
              "      <td>8</td>\n",
              "      <td>1</td>\n",
              "      <td>Life Sciences</td>\n",
              "      <td>3</td>\n",
              "      <td>61</td>\n",
              "      <td>2</td>\n",
              "      <td>...</td>\n",
              "      <td>4</td>\n",
              "      <td>4</td>\n",
              "      <td>1</td>\n",
              "      <td>10</td>\n",
              "      <td>3</td>\n",
              "      <td>3</td>\n",
              "      <td>10</td>\n",
              "      <td>7</td>\n",
              "      <td>1</td>\n",
              "      <td>7</td>\n",
              "    </tr>\n",
              "    <tr>\n",
              "      <th>2</th>\n",
              "      <td>37</td>\n",
              "      <td>Yes</td>\n",
              "      <td>Travel_Rarely</td>\n",
              "      <td>Research &amp; Development</td>\n",
              "      <td>2</td>\n",
              "      <td>2</td>\n",
              "      <td>Other</td>\n",
              "      <td>4</td>\n",
              "      <td>92</td>\n",
              "      <td>2</td>\n",
              "      <td>...</td>\n",
              "      <td>3</td>\n",
              "      <td>2</td>\n",
              "      <td>0</td>\n",
              "      <td>7</td>\n",
              "      <td>3</td>\n",
              "      <td>3</td>\n",
              "      <td>0</td>\n",
              "      <td>0</td>\n",
              "      <td>0</td>\n",
              "      <td>0</td>\n",
              "    </tr>\n",
              "    <tr>\n",
              "      <th>3</th>\n",
              "      <td>33</td>\n",
              "      <td>No</td>\n",
              "      <td>Travel_Frequently</td>\n",
              "      <td>Research &amp; Development</td>\n",
              "      <td>3</td>\n",
              "      <td>4</td>\n",
              "      <td>Life Sciences</td>\n",
              "      <td>4</td>\n",
              "      <td>56</td>\n",
              "      <td>3</td>\n",
              "      <td>...</td>\n",
              "      <td>3</td>\n",
              "      <td>3</td>\n",
              "      <td>0</td>\n",
              "      <td>8</td>\n",
              "      <td>3</td>\n",
              "      <td>3</td>\n",
              "      <td>8</td>\n",
              "      <td>7</td>\n",
              "      <td>3</td>\n",
              "      <td>0</td>\n",
              "    </tr>\n",
              "    <tr>\n",
              "      <th>4</th>\n",
              "      <td>27</td>\n",
              "      <td>No</td>\n",
              "      <td>Travel_Rarely</td>\n",
              "      <td>Research &amp; Development</td>\n",
              "      <td>2</td>\n",
              "      <td>1</td>\n",
              "      <td>Medical</td>\n",
              "      <td>1</td>\n",
              "      <td>40</td>\n",
              "      <td>3</td>\n",
              "      <td>...</td>\n",
              "      <td>3</td>\n",
              "      <td>4</td>\n",
              "      <td>1</td>\n",
              "      <td>6</td>\n",
              "      <td>3</td>\n",
              "      <td>3</td>\n",
              "      <td>2</td>\n",
              "      <td>2</td>\n",
              "      <td>2</td>\n",
              "      <td>2</td>\n",
              "    </tr>\n",
              "  </tbody>\n",
              "</table>\n",
              "<p>5 rows × 27 columns</p>\n",
              "</div>"
            ],
            "text/plain": [
              "   Age Attrition     BusinessTravel              Department  DistanceFromHome  \\\n",
              "0   41       Yes      Travel_Rarely                   Sales                 1   \n",
              "1   49        No  Travel_Frequently  Research & Development                 8   \n",
              "2   37       Yes      Travel_Rarely  Research & Development                 2   \n",
              "3   33        No  Travel_Frequently  Research & Development                 3   \n",
              "4   27        No      Travel_Rarely  Research & Development                 2   \n",
              "\n",
              "   Education EducationField  EnvironmentSatisfaction  HourlyRate  \\\n",
              "0          2  Life Sciences                        2          94   \n",
              "1          1  Life Sciences                        3          61   \n",
              "2          2          Other                        4          92   \n",
              "3          4  Life Sciences                        4          56   \n",
              "4          1        Medical                        1          40   \n",
              "\n",
              "   JobInvolvement  ...  PerformanceRating RelationshipSatisfaction  \\\n",
              "0               3  ...                  3                        1   \n",
              "1               2  ...                  4                        4   \n",
              "2               2  ...                  3                        2   \n",
              "3               3  ...                  3                        3   \n",
              "4               3  ...                  3                        4   \n",
              "\n",
              "   StockOptionLevel TotalWorkingYears  TrainingTimesLastYear WorkLifeBalance  \\\n",
              "0                 0                 8                      0               1   \n",
              "1                 1                10                      3               3   \n",
              "2                 0                 7                      3               3   \n",
              "3                 0                 8                      3               3   \n",
              "4                 1                 6                      3               3   \n",
              "\n",
              "   YearsAtCompany  YearsInCurrentRole  YearsSinceLastPromotion  \\\n",
              "0               6                   4                        0   \n",
              "1              10                   7                        1   \n",
              "2               0                   0                        0   \n",
              "3               8                   7                        3   \n",
              "4               2                   2                        2   \n",
              "\n",
              "   YearsWithCurrManager  \n",
              "0                     5  \n",
              "1                     7  \n",
              "2                     0  \n",
              "3                     0  \n",
              "4                     2  \n",
              "\n",
              "[5 rows x 27 columns]"
            ]
          },
          "execution_count": 16,
          "metadata": {},
          "output_type": "execute_result"
        }
      ],
      "source": [
        "# Import our dependencies\n",
        "from sklearn.model_selection import train_test_split\n",
        "from sklearn.preprocessing import StandardScaler\n",
        "import pandas as pd\n",
        "import numpy as np\n",
        "from tensorflow.keras.models import Model\n",
        "from tensorflow.keras import layers\n",
        "\n",
        "#  Import and read the attrition data\n",
        "attrition_df = pd.read_csv('https://static.bc-edx.com/ai/ail-v-1-0/m19/lms/datasets/attrition.csv')\n",
        "attrition_df.head()"
      ]
    },
    {
      "cell_type": "code",
      "execution_count": 17,
      "metadata": {
        "colab": {
          "base_uri": "https://localhost:8080/"
        },
        "id": "g22aQSY4Gc3Q",
        "outputId": "1f5c13c1-b981-4e40-a7ed-dd3fe6f1b81e"
      },
      "outputs": [
        {
          "data": {
            "text/plain": [
              "Age                         43\n",
              "Attrition                    2\n",
              "BusinessTravel               3\n",
              "Department                   3\n",
              "DistanceFromHome            29\n",
              "Education                    5\n",
              "EducationField               6\n",
              "EnvironmentSatisfaction      4\n",
              "HourlyRate                  71\n",
              "JobInvolvement               4\n",
              "JobLevel                     5\n",
              "JobRole                      9\n",
              "JobSatisfaction              4\n",
              "MaritalStatus                3\n",
              "NumCompaniesWorked          10\n",
              "OverTime                     2\n",
              "PercentSalaryHike           15\n",
              "PerformanceRating            2\n",
              "RelationshipSatisfaction     4\n",
              "StockOptionLevel             4\n",
              "TotalWorkingYears           40\n",
              "TrainingTimesLastYear        7\n",
              "WorkLifeBalance              4\n",
              "YearsAtCompany              37\n",
              "YearsInCurrentRole          19\n",
              "YearsSinceLastPromotion     16\n",
              "YearsWithCurrManager        18\n",
              "dtype: int64"
            ]
          },
          "execution_count": 17,
          "metadata": {},
          "output_type": "execute_result"
        }
      ],
      "source": [
        "# Determine the number of unique values in each column.\n",
        "attrition_df.nunique()"
      ]
    },
    {
      "cell_type": "code",
      "execution_count": 18,
      "metadata": {
        "id": "50vMgBEnJbfM"
      },
      "outputs": [
        {
          "data": {
            "text/html": [
              "<div>\n",
              "<style scoped>\n",
              "    .dataframe tbody tr th:only-of-type {\n",
              "        vertical-align: middle;\n",
              "    }\n",
              "\n",
              "    .dataframe tbody tr th {\n",
              "        vertical-align: top;\n",
              "    }\n",
              "\n",
              "    .dataframe thead th {\n",
              "        text-align: right;\n",
              "    }\n",
              "</style>\n",
              "<table border=\"1\" class=\"dataframe\">\n",
              "  <thead>\n",
              "    <tr style=\"text-align: right;\">\n",
              "      <th></th>\n",
              "      <th>Attrition</th>\n",
              "      <th>Department</th>\n",
              "    </tr>\n",
              "  </thead>\n",
              "  <tbody>\n",
              "    <tr>\n",
              "      <th>0</th>\n",
              "      <td>Yes</td>\n",
              "      <td>Sales</td>\n",
              "    </tr>\n",
              "    <tr>\n",
              "      <th>1</th>\n",
              "      <td>No</td>\n",
              "      <td>Research &amp; Development</td>\n",
              "    </tr>\n",
              "    <tr>\n",
              "      <th>2</th>\n",
              "      <td>Yes</td>\n",
              "      <td>Research &amp; Development</td>\n",
              "    </tr>\n",
              "    <tr>\n",
              "      <th>3</th>\n",
              "      <td>No</td>\n",
              "      <td>Research &amp; Development</td>\n",
              "    </tr>\n",
              "    <tr>\n",
              "      <th>4</th>\n",
              "      <td>No</td>\n",
              "      <td>Research &amp; Development</td>\n",
              "    </tr>\n",
              "  </tbody>\n",
              "</table>\n",
              "</div>"
            ],
            "text/plain": [
              "  Attrition              Department\n",
              "0       Yes                   Sales\n",
              "1        No  Research & Development\n",
              "2       Yes  Research & Development\n",
              "3        No  Research & Development\n",
              "4        No  Research & Development"
            ]
          },
          "execution_count": 18,
          "metadata": {},
          "output_type": "execute_result"
        }
      ],
      "source": [
        "# Create y_df with the Attrition and Department columns\n",
        "y_df = attrition_df[['Attrition', 'Department']]\n",
        "y_df.head()\n"
      ]
    },
    {
      "cell_type": "code",
      "execution_count": 19,
      "metadata": {},
      "outputs": [
        {
          "data": {
            "text/plain": [
              "Attrition     object\n",
              "Department    object\n",
              "dtype: object"
            ]
          },
          "execution_count": 19,
          "metadata": {},
          "output_type": "execute_result"
        }
      ],
      "source": [
        "y_df.dtypes"
      ]
    },
    {
      "cell_type": "code",
      "execution_count": 20,
      "metadata": {
        "colab": {
          "base_uri": "https://localhost:8080/"
        },
        "id": "Virka0zLGc3R",
        "outputId": "dd5aee3a-9458-4ba6-e857-1b234de40915"
      },
      "outputs": [
        {
          "data": {
            "text/plain": [
              "Education                   int64\n",
              "Age                         int64\n",
              "DistanceFromHome            int64\n",
              "JobSatisfaction             int64\n",
              "OverTime                   object\n",
              "StockOptionLevel            int64\n",
              "WorkLifeBalance             int64\n",
              "YearsAtCompany              int64\n",
              "YearsSinceLastPromotion     int64\n",
              "NumCompaniesWorked          int64\n",
              "dtype: object"
            ]
          },
          "execution_count": 20,
          "metadata": {},
          "output_type": "execute_result"
        }
      ],
      "source": [
        "# Create a list of at least 10 column names to use as X data\n",
        "selected_columns = ['Education', 'Age', 'DistanceFromHome', 'JobSatisfaction', \n",
        "                    'OverTime', 'StockOptionLevel', 'WorkLifeBalance', \n",
        "                    'YearsAtCompany', 'YearsSinceLastPromotion', 'NumCompaniesWorked']\n",
        "\n",
        "\n",
        "# Create X_df using your selected columns\n",
        "X_df = attrition_df[selected_columns]\n",
        "\n",
        "# Show the data types for X_df\n",
        "X_df.dtypes\n"
      ]
    },
    {
      "cell_type": "code",
      "execution_count": 21,
      "metadata": {
        "id": "KaJfdOGUMHMR"
      },
      "outputs": [],
      "source": [
        "# Split the data into training and testing sets\n",
        "from sklearn.model_selection import train_test_split\n",
        "\n",
        "X_train, X_test, y_train, y_test = train_test_split(X_df, y_df, random_state=78)"
      ]
    },
    {
      "cell_type": "code",
      "execution_count": 22,
      "metadata": {
        "colab": {
          "base_uri": "https://localhost:8080/"
        },
        "id": "NYubUJqiLCSp",
        "outputId": "53f31721-571c-4c94-d13e-25a715749593"
      },
      "outputs": [
        {
          "data": {
            "text/plain": [
              "OverTime\n",
              "No     799\n",
              "Yes    303\n",
              "Name: count, dtype: int64"
            ]
          },
          "execution_count": 22,
          "metadata": {},
          "output_type": "execute_result"
        }
      ],
      "source": [
        "# Convert your X data to numeric data types however you see fit\n",
        "# Add new code cells as necessary\n",
        "\n",
        "X_train['OverTime'].value_counts()"
      ]
    },
    {
      "cell_type": "code",
      "execution_count": 25,
      "metadata": {},
      "outputs": [
        {
          "data": {
            "text/html": [
              "<div>\n",
              "<style scoped>\n",
              "    .dataframe tbody tr th:only-of-type {\n",
              "        vertical-align: middle;\n",
              "    }\n",
              "\n",
              "    .dataframe tbody tr th {\n",
              "        vertical-align: top;\n",
              "    }\n",
              "\n",
              "    .dataframe thead th {\n",
              "        text-align: right;\n",
              "    }\n",
              "</style>\n",
              "<table border=\"1\" class=\"dataframe\">\n",
              "  <thead>\n",
              "    <tr style=\"text-align: right;\">\n",
              "      <th></th>\n",
              "      <th>Education</th>\n",
              "      <th>Age</th>\n",
              "      <th>DistanceFromHome</th>\n",
              "      <th>JobSatisfaction</th>\n",
              "      <th>OverTime</th>\n",
              "      <th>StockOptionLevel</th>\n",
              "      <th>WorkLifeBalance</th>\n",
              "      <th>YearsAtCompany</th>\n",
              "      <th>YearsSinceLastPromotion</th>\n",
              "      <th>NumCompaniesWorked</th>\n",
              "    </tr>\n",
              "  </thead>\n",
              "  <tbody>\n",
              "    <tr>\n",
              "      <th>591</th>\n",
              "      <td>3</td>\n",
              "      <td>33</td>\n",
              "      <td>16</td>\n",
              "      <td>1</td>\n",
              "      <td>No</td>\n",
              "      <td>0</td>\n",
              "      <td>3</td>\n",
              "      <td>3</td>\n",
              "      <td>0</td>\n",
              "      <td>5</td>\n",
              "    </tr>\n",
              "    <tr>\n",
              "      <th>267</th>\n",
              "      <td>2</td>\n",
              "      <td>25</td>\n",
              "      <td>5</td>\n",
              "      <td>1</td>\n",
              "      <td>No</td>\n",
              "      <td>2</td>\n",
              "      <td>3</td>\n",
              "      <td>6</td>\n",
              "      <td>1</td>\n",
              "      <td>1</td>\n",
              "    </tr>\n",
              "    <tr>\n",
              "      <th>1236</th>\n",
              "      <td>5</td>\n",
              "      <td>36</td>\n",
              "      <td>13</td>\n",
              "      <td>1</td>\n",
              "      <td>Yes</td>\n",
              "      <td>3</td>\n",
              "      <td>3</td>\n",
              "      <td>2</td>\n",
              "      <td>2</td>\n",
              "      <td>5</td>\n",
              "    </tr>\n",
              "    <tr>\n",
              "      <th>788</th>\n",
              "      <td>3</td>\n",
              "      <td>28</td>\n",
              "      <td>10</td>\n",
              "      <td>3</td>\n",
              "      <td>No</td>\n",
              "      <td>0</td>\n",
              "      <td>4</td>\n",
              "      <td>8</td>\n",
              "      <td>1</td>\n",
              "      <td>3</td>\n",
              "    </tr>\n",
              "    <tr>\n",
              "      <th>1224</th>\n",
              "      <td>4</td>\n",
              "      <td>26</td>\n",
              "      <td>17</td>\n",
              "      <td>3</td>\n",
              "      <td>No</td>\n",
              "      <td>3</td>\n",
              "      <td>4</td>\n",
              "      <td>3</td>\n",
              "      <td>0</td>\n",
              "      <td>1</td>\n",
              "    </tr>\n",
              "  </tbody>\n",
              "</table>\n",
              "</div>"
            ],
            "text/plain": [
              "      Education  Age  DistanceFromHome  JobSatisfaction OverTime  \\\n",
              "591           3   33                16                1       No   \n",
              "267           2   25                 5                1       No   \n",
              "1236          5   36                13                1      Yes   \n",
              "788           3   28                10                3       No   \n",
              "1224          4   26                17                3       No   \n",
              "\n",
              "      StockOptionLevel  WorkLifeBalance  YearsAtCompany  \\\n",
              "591                  0                3               3   \n",
              "267                  2                3               6   \n",
              "1236                 3                3               2   \n",
              "788                  0                4               8   \n",
              "1224                 3                4               3   \n",
              "\n",
              "      YearsSinceLastPromotion  NumCompaniesWorked  \n",
              "591                         0                   5  \n",
              "267                         1                   1  \n",
              "1236                        2                   5  \n",
              "788                         1                   3  \n",
              "1224                        0                   1  "
            ]
          },
          "execution_count": 25,
          "metadata": {},
          "output_type": "execute_result"
        }
      ],
      "source": [
        "X_train.head()"
      ]
    },
    {
      "cell_type": "code",
      "execution_count": 23,
      "metadata": {},
      "outputs": [],
      "source": [
        "# Encode the OverTime column as it contains Yes/No values using OneHotEncoder\n",
        "from sklearn.preprocessing import OneHotEncoder\n",
        "ohe_overtime = OneHotEncoder(sparse_output=False)\n",
        "\n",
        "X_train_encoded = ohe_overtime.fit_transform(X_train[['OverTime']])\n",
        "X_test_encoded = ohe_overtime.transform(X_test[['OverTime']])\n",
        "\n"
      ]
    },
    {
      "cell_type": "code",
      "execution_count": 26,
      "metadata": {},
      "outputs": [],
      "source": [
        "# Get encoded column names\n",
        "overtime_columns = ohe_overtime.get_feature_names_out(['OverTime'])\n",
        "\n",
        "# Create a DataFrame with the encoded column names\n",
        "overtime_encoded_train_df = pd.DataFrame(X_train_encoded, columns=overtime_columns, index=X_train.index)\n",
        "overtime_encoded_test_df = pd.DataFrame(X_test_encoded, columns=overtime_columns, index=X_test.index)\n",
        "\n",
        "# Drop the original OverTime column from the X_train and X_test DataFrames and concatenate the encoded columns\n",
        "X_train_encoded_df = pd.concat([X_train.drop(columns=['OverTime']), overtime_encoded_train_df], axis=1)\n",
        "X_test_encoded_df = pd.concat([X_test.drop(columns=['OverTime']), overtime_encoded_test_df], axis=1)"
      ]
    },
    {
      "cell_type": "code",
      "execution_count": 27,
      "metadata": {},
      "outputs": [
        {
          "data": {
            "text/html": [
              "<div>\n",
              "<style scoped>\n",
              "    .dataframe tbody tr th:only-of-type {\n",
              "        vertical-align: middle;\n",
              "    }\n",
              "\n",
              "    .dataframe tbody tr th {\n",
              "        vertical-align: top;\n",
              "    }\n",
              "\n",
              "    .dataframe thead th {\n",
              "        text-align: right;\n",
              "    }\n",
              "</style>\n",
              "<table border=\"1\" class=\"dataframe\">\n",
              "  <thead>\n",
              "    <tr style=\"text-align: right;\">\n",
              "      <th></th>\n",
              "      <th>Education</th>\n",
              "      <th>Age</th>\n",
              "      <th>DistanceFromHome</th>\n",
              "      <th>JobSatisfaction</th>\n",
              "      <th>StockOptionLevel</th>\n",
              "      <th>WorkLifeBalance</th>\n",
              "      <th>YearsAtCompany</th>\n",
              "      <th>YearsSinceLastPromotion</th>\n",
              "      <th>NumCompaniesWorked</th>\n",
              "      <th>OverTime_No</th>\n",
              "      <th>OverTime_Yes</th>\n",
              "    </tr>\n",
              "  </thead>\n",
              "  <tbody>\n",
              "    <tr>\n",
              "      <th>591</th>\n",
              "      <td>3</td>\n",
              "      <td>33</td>\n",
              "      <td>16</td>\n",
              "      <td>1</td>\n",
              "      <td>0</td>\n",
              "      <td>3</td>\n",
              "      <td>3</td>\n",
              "      <td>0</td>\n",
              "      <td>5</td>\n",
              "      <td>1.0</td>\n",
              "      <td>0.0</td>\n",
              "    </tr>\n",
              "    <tr>\n",
              "      <th>267</th>\n",
              "      <td>2</td>\n",
              "      <td>25</td>\n",
              "      <td>5</td>\n",
              "      <td>1</td>\n",
              "      <td>2</td>\n",
              "      <td>3</td>\n",
              "      <td>6</td>\n",
              "      <td>1</td>\n",
              "      <td>1</td>\n",
              "      <td>1.0</td>\n",
              "      <td>0.0</td>\n",
              "    </tr>\n",
              "    <tr>\n",
              "      <th>1236</th>\n",
              "      <td>5</td>\n",
              "      <td>36</td>\n",
              "      <td>13</td>\n",
              "      <td>1</td>\n",
              "      <td>3</td>\n",
              "      <td>3</td>\n",
              "      <td>2</td>\n",
              "      <td>2</td>\n",
              "      <td>5</td>\n",
              "      <td>0.0</td>\n",
              "      <td>1.0</td>\n",
              "    </tr>\n",
              "    <tr>\n",
              "      <th>788</th>\n",
              "      <td>3</td>\n",
              "      <td>28</td>\n",
              "      <td>10</td>\n",
              "      <td>3</td>\n",
              "      <td>0</td>\n",
              "      <td>4</td>\n",
              "      <td>8</td>\n",
              "      <td>1</td>\n",
              "      <td>3</td>\n",
              "      <td>1.0</td>\n",
              "      <td>0.0</td>\n",
              "    </tr>\n",
              "    <tr>\n",
              "      <th>1224</th>\n",
              "      <td>4</td>\n",
              "      <td>26</td>\n",
              "      <td>17</td>\n",
              "      <td>3</td>\n",
              "      <td>3</td>\n",
              "      <td>4</td>\n",
              "      <td>3</td>\n",
              "      <td>0</td>\n",
              "      <td>1</td>\n",
              "      <td>1.0</td>\n",
              "      <td>0.0</td>\n",
              "    </tr>\n",
              "  </tbody>\n",
              "</table>\n",
              "</div>"
            ],
            "text/plain": [
              "      Education  Age  DistanceFromHome  JobSatisfaction  StockOptionLevel  \\\n",
              "591           3   33                16                1                 0   \n",
              "267           2   25                 5                1                 2   \n",
              "1236          5   36                13                1                 3   \n",
              "788           3   28                10                3                 0   \n",
              "1224          4   26                17                3                 3   \n",
              "\n",
              "      WorkLifeBalance  YearsAtCompany  YearsSinceLastPromotion  \\\n",
              "591                 3               3                        0   \n",
              "267                 3               6                        1   \n",
              "1236                3               2                        2   \n",
              "788                 4               8                        1   \n",
              "1224                4               3                        0   \n",
              "\n",
              "      NumCompaniesWorked  OverTime_No  OverTime_Yes  \n",
              "591                    5          1.0           0.0  \n",
              "267                    1          1.0           0.0  \n",
              "1236                   5          0.0           1.0  \n",
              "788                    3          1.0           0.0  \n",
              "1224                   1          1.0           0.0  "
            ]
          },
          "execution_count": 27,
          "metadata": {},
          "output_type": "execute_result"
        }
      ],
      "source": [
        "X_train_encoded_df.head()"
      ]
    },
    {
      "cell_type": "code",
      "execution_count": 28,
      "metadata": {
        "id": "EWA-aIA5Gc3T"
      },
      "outputs": [],
      "source": [
        "# Create a StandardScaler\n",
        "std_scaler = StandardScaler()\n",
        "\n",
        "# Fit the StandardScaler to the training data ignore index column\n",
        "X_scaler = std_scaler.fit(X_train_encoded_df)\n",
        "\n",
        "# Scale the training and testing data\n",
        "X_train_scaled = X_scaler.transform(X_train_encoded_df)\n",
        "X_test_scaled = X_scaler.transform(X_test_encoded_df)\n"
      ]
    },
    {
      "cell_type": "code",
      "execution_count": 29,
      "metadata": {},
      "outputs": [],
      "source": [
        "# Convert scaled data to a DataFrame\n",
        "X_train_scaled_df = pd.DataFrame(X_train_scaled, columns=X_train_encoded_df.columns, index=X_train_encoded_df.index)\n",
        "X_test_scaled_df = pd.DataFrame(X_test_scaled, columns=X_test_encoded_df.columns, index=X_test_encoded_df.index)"
      ]
    },
    {
      "cell_type": "code",
      "execution_count": 39,
      "metadata": {},
      "outputs": [
        {
          "data": {
            "text/html": [
              "<div>\n",
              "<style scoped>\n",
              "    .dataframe tbody tr th:only-of-type {\n",
              "        vertical-align: middle;\n",
              "    }\n",
              "\n",
              "    .dataframe tbody tr th {\n",
              "        vertical-align: top;\n",
              "    }\n",
              "\n",
              "    .dataframe thead th {\n",
              "        text-align: right;\n",
              "    }\n",
              "</style>\n",
              "<table border=\"1\" class=\"dataframe\">\n",
              "  <thead>\n",
              "    <tr style=\"text-align: right;\">\n",
              "      <th></th>\n",
              "      <th>Education</th>\n",
              "      <th>Age</th>\n",
              "      <th>DistanceFromHome</th>\n",
              "      <th>JobSatisfaction</th>\n",
              "      <th>StockOptionLevel</th>\n",
              "      <th>WorkLifeBalance</th>\n",
              "      <th>YearsAtCompany</th>\n",
              "      <th>YearsSinceLastPromotion</th>\n",
              "      <th>NumCompaniesWorked</th>\n",
              "      <th>OverTime_No</th>\n",
              "      <th>OverTime_Yes</th>\n",
              "    </tr>\n",
              "  </thead>\n",
              "  <tbody>\n",
              "    <tr>\n",
              "      <th>591</th>\n",
              "      <td>0.105287</td>\n",
              "      <td>-0.409424</td>\n",
              "      <td>0.874754</td>\n",
              "      <td>-1.541729</td>\n",
              "      <td>-0.925250</td>\n",
              "      <td>0.34094</td>\n",
              "      <td>-0.638148</td>\n",
              "      <td>-0.674305</td>\n",
              "      <td>0.920043</td>\n",
              "      <td>0.615812</td>\n",
              "      <td>-0.615812</td>\n",
              "    </tr>\n",
              "    <tr>\n",
              "      <th>267</th>\n",
              "      <td>-0.886389</td>\n",
              "      <td>-1.298897</td>\n",
              "      <td>-0.507205</td>\n",
              "      <td>-1.541729</td>\n",
              "      <td>1.413341</td>\n",
              "      <td>0.34094</td>\n",
              "      <td>-0.136312</td>\n",
              "      <td>-0.345069</td>\n",
              "      <td>-0.673493</td>\n",
              "      <td>0.615812</td>\n",
              "      <td>-0.615812</td>\n",
              "    </tr>\n",
              "    <tr>\n",
              "      <th>1236</th>\n",
              "      <td>2.088639</td>\n",
              "      <td>-0.075872</td>\n",
              "      <td>0.497856</td>\n",
              "      <td>-1.541729</td>\n",
              "      <td>2.582636</td>\n",
              "      <td>0.34094</td>\n",
              "      <td>-0.805427</td>\n",
              "      <td>-0.015834</td>\n",
              "      <td>0.920043</td>\n",
              "      <td>-1.623873</td>\n",
              "      <td>1.623873</td>\n",
              "    </tr>\n",
              "    <tr>\n",
              "      <th>788</th>\n",
              "      <td>0.105287</td>\n",
              "      <td>-0.965344</td>\n",
              "      <td>0.120958</td>\n",
              "      <td>0.261865</td>\n",
              "      <td>-0.925250</td>\n",
              "      <td>1.70718</td>\n",
              "      <td>0.198245</td>\n",
              "      <td>-0.345069</td>\n",
              "      <td>0.123275</td>\n",
              "      <td>0.615812</td>\n",
              "      <td>-0.615812</td>\n",
              "    </tr>\n",
              "    <tr>\n",
              "      <th>1224</th>\n",
              "      <td>1.096963</td>\n",
              "      <td>-1.187713</td>\n",
              "      <td>1.000387</td>\n",
              "      <td>0.261865</td>\n",
              "      <td>2.582636</td>\n",
              "      <td>1.70718</td>\n",
              "      <td>-0.638148</td>\n",
              "      <td>-0.674305</td>\n",
              "      <td>-0.673493</td>\n",
              "      <td>0.615812</td>\n",
              "      <td>-0.615812</td>\n",
              "    </tr>\n",
              "  </tbody>\n",
              "</table>\n",
              "</div>"
            ],
            "text/plain": [
              "      Education       Age  DistanceFromHome  JobSatisfaction  \\\n",
              "591    0.105287 -0.409424          0.874754        -1.541729   \n",
              "267   -0.886389 -1.298897         -0.507205        -1.541729   \n",
              "1236   2.088639 -0.075872          0.497856        -1.541729   \n",
              "788    0.105287 -0.965344          0.120958         0.261865   \n",
              "1224   1.096963 -1.187713          1.000387         0.261865   \n",
              "\n",
              "      StockOptionLevel  WorkLifeBalance  YearsAtCompany  \\\n",
              "591          -0.925250          0.34094       -0.638148   \n",
              "267           1.413341          0.34094       -0.136312   \n",
              "1236          2.582636          0.34094       -0.805427   \n",
              "788          -0.925250          1.70718        0.198245   \n",
              "1224          2.582636          1.70718       -0.638148   \n",
              "\n",
              "      YearsSinceLastPromotion  NumCompaniesWorked  OverTime_No  OverTime_Yes  \n",
              "591                 -0.674305            0.920043     0.615812     -0.615812  \n",
              "267                 -0.345069           -0.673493     0.615812     -0.615812  \n",
              "1236                -0.015834            0.920043    -1.623873      1.623873  \n",
              "788                 -0.345069            0.123275     0.615812     -0.615812  \n",
              "1224                -0.674305           -0.673493     0.615812     -0.615812  "
            ]
          },
          "execution_count": 39,
          "metadata": {},
          "output_type": "execute_result"
        }
      ],
      "source": [
        "X_train_scaled_df.head()"
      ]
    },
    {
      "cell_type": "code",
      "execution_count": 34,
      "metadata": {
        "colab": {
          "base_uri": "https://localhost:8080/"
        },
        "id": "-z0Mky8vQSz4",
        "outputId": "debefc85-c20b-48f5-f4d9-91eadd65d36a"
      },
      "outputs": [],
      "source": [
        "# Create a OneHotEncoder for the Department column\n",
        "ohe_department = OneHotEncoder(sparse_output=False)\n",
        "\n",
        "# Fit the encoder to the training data\n",
        "ohe_department.fit(y_train[['Department']])\n",
        "\n",
        "# Create two new variables by applying the encoder\n",
        "# to the training and testing data\n",
        "y_train_encoded_department = ohe_department.transform(y_train[['Department']])\n",
        "y_test_encoded_department = ohe_department.transform(y_test[['Department']])\n",
        "\n",
        "# Get the encoded column names\n",
        "department_columns = ohe_department.get_feature_names_out(['Department'])\n",
        "\n",
        "# Create DataFrames with the encoded column names\n",
        "department_encoded_train_df = pd.DataFrame(y_train_encoded_department, columns=department_columns, index=y_train.index)\n",
        "department_encoded_test_df = pd.DataFrame(y_test_encoded_department, columns=department_columns, index=y_test.index)"
      ]
    },
    {
      "cell_type": "code",
      "execution_count": 35,
      "metadata": {
        "colab": {
          "base_uri": "https://localhost:8080/"
        },
        "id": "-G4DSpvFRrk4",
        "outputId": "9842e948-8a55-4b80-8fac-f96714e85589"
      },
      "outputs": [],
      "source": [
        "# Create a OneHotEncoder for the Attrition column\n",
        "ohe_attrition = OneHotEncoder(sparse_output=False, drop='first')\n",
        "\n",
        "# Fit the encoder to the training data\n",
        "ohe_attrition.fit(y_train[['Attrition']])\n",
        "\n",
        "# Create two new variables by applying the encoder\n",
        "# to the training and testing data\n",
        "y_train_encoded_attrition = ohe_attrition.transform(y_train[['Attrition']])\n",
        "y_test_encoded_attrition = ohe_attrition.transform(y_test[['Attrition']])\n",
        "\n",
        "# Get the encoded column names\n",
        "attrition_columns = ohe_attrition.get_feature_names_out(['Attrition'])\n",
        "\n",
        "# Create DataFrames with the encoded column names\n",
        "attrition_encoded_train_df = pd.DataFrame(y_train_encoded_attrition, columns=attrition_columns, index=y_train.index)\n",
        "attrition_encoded_test_df = pd.DataFrame(y_test_encoded_attrition, columns=attrition_columns, index=y_test.index)"
      ]
    },
    {
      "cell_type": "code",
      "execution_count": 38,
      "metadata": {},
      "outputs": [
        {
          "data": {
            "text/plain": [
              "array([[ 0.10528682, -0.40942386,  0.87475435, -1.54172867, -0.92525011,\n",
              "         0.34094003, -0.63814846, -0.67430453,  0.92004345,  0.61581168,\n",
              "        -0.61581168],\n",
              "       [-0.88638904, -1.29889668, -0.50720476, -1.54172867,  1.41334076,\n",
              "         0.34094003, -0.1363124 , -0.34506944, -0.67349349,  0.61581168,\n",
              "        -0.61581168],\n",
              "       [ 2.08863855, -0.07587155,  0.49785641, -1.54172867,  2.5826362 ,\n",
              "         0.34094003, -0.80542715, -0.01583436,  0.92004345, -1.62387305,\n",
              "         1.62387305],\n",
              "       [ 0.10528682, -0.96534437,  0.12095847,  0.26186474, -0.92525011,\n",
              "         1.70717974,  0.19824498, -0.34506944,  0.12327498,  0.61581168,\n",
              "        -0.61581168],\n",
              "       [ 1.09696269, -1.18771258,  1.000387  ,  0.26186474,  2.5826362 ,\n",
              "         1.70717974, -0.63814846, -0.67430453, -0.67349349,  0.61581168,\n",
              "        -0.61581168]])"
            ]
          },
          "execution_count": 38,
          "metadata": {},
          "output_type": "execute_result"
        }
      ],
      "source": [
        "X_train_scaled[:5]"
      ]
    },
    {
      "cell_type": "markdown",
      "metadata": {
        "id": "ykNmu_WWGc3T"
      },
      "source": [
        "## Create, Compile, and Train the Model"
      ]
    },
    {
      "cell_type": "code",
      "execution_count": 49,
      "metadata": {
        "id": "WUptZqmSGc3T"
      },
      "outputs": [
        {
          "name": "stdout",
          "output_type": "stream",
          "text": [
            "Number of input features: 11\n"
          ]
        }
      ],
      "source": [
        "# Find the number of columns in the X training data\n",
        "num_features = X_train_scaled.shape[1]\n",
        "print(f\"Number of input features: {num_features}\")\n",
        "\n",
        "# Create the input layer\n",
        "input_layer = layers.Input(shape=(num_features,))\n",
        "\n",
        "# Create at least two shared layers\n",
        "shared_layer_1 = layers.Dense(units=128, activation='relu')(input_layer)\n",
        "shared_layer_2 = layers.Dense(units=64, activation='relu')(shared_layer_1)"
      ]
    },
    {
      "cell_type": "code",
      "execution_count": 50,
      "metadata": {
        "id": "JukjTm2yTEqd"
      },
      "outputs": [],
      "source": [
        "# Create a branch for Department\n",
        "# with a hidden layer and an output layer\n",
        "\n",
        "# Create the hidden layer\n",
        "department_branch = layers.Dense(units=32, activation='relu')(shared_layer_2)\n",
        "\n",
        "# Create the output layer\n",
        "department_output = layers.Dense(units=department_encoded_train_df.shape[1], activation='softmax', name='department_output')(department_branch)\n"
      ]
    },
    {
      "cell_type": "code",
      "execution_count": 51,
      "metadata": {
        "id": "9OqhUiOJUBkR"
      },
      "outputs": [],
      "source": [
        "# Create a branch for Attrition\n",
        "# with a hidden layer and an output layer\n",
        "\n",
        "# Create the hidden layer\n",
        "attrition_branch = layers.Dense(units=32, activation='relu')(shared_layer_2)\n",
        "\n",
        "# Create the output layer\n",
        "attrition_output = layers.Dense(units=attrition_encoded_train_df.shape[1], activation='sigmoid', name='attrition_output')(attrition_branch)\n"
      ]
    },
    {
      "cell_type": "code",
      "execution_count": 52,
      "metadata": {
        "colab": {
          "base_uri": "https://localhost:8080/"
        },
        "id": "twmuejdxGc3T",
        "outputId": "25096308-b68b-42e4-e4ea-ae82e97c435a"
      },
      "outputs": [
        {
          "data": {
            "text/html": [
              "<pre style=\"white-space:pre;overflow-x:auto;line-height:normal;font-family:Menlo,'DejaVu Sans Mono',consolas,'Courier New',monospace\"><span style=\"font-weight: bold\">Model: \"functional_2\"</span>\n",
              "</pre>\n"
            ],
            "text/plain": [
              "\u001b[1mModel: \"functional_2\"\u001b[0m\n"
            ]
          },
          "metadata": {},
          "output_type": "display_data"
        },
        {
          "data": {
            "text/html": [
              "<pre style=\"white-space:pre;overflow-x:auto;line-height:normal;font-family:Menlo,'DejaVu Sans Mono',consolas,'Courier New',monospace\">┏━━━━━━━━━━━━━━━━━━━━━┳━━━━━━━━━━━━━━━━━━━┳━━━━━━━━━━━━┳━━━━━━━━━━━━━━━━━━━┓\n",
              "┃<span style=\"font-weight: bold\"> Layer (type)        </span>┃<span style=\"font-weight: bold\"> Output Shape      </span>┃<span style=\"font-weight: bold\">    Param # </span>┃<span style=\"font-weight: bold\"> Connected to      </span>┃\n",
              "┡━━━━━━━━━━━━━━━━━━━━━╇━━━━━━━━━━━━━━━━━━━╇━━━━━━━━━━━━╇━━━━━━━━━━━━━━━━━━━┩\n",
              "│ input_layer_2       │ (<span style=\"color: #00d7ff; text-decoration-color: #00d7ff\">None</span>, <span style=\"color: #00af00; text-decoration-color: #00af00\">11</span>)        │          <span style=\"color: #00af00; text-decoration-color: #00af00\">0</span> │ -                 │\n",
              "│ (<span style=\"color: #0087ff; text-decoration-color: #0087ff\">InputLayer</span>)        │                   │            │                   │\n",
              "├─────────────────────┼───────────────────┼────────────┼───────────────────┤\n",
              "│ dense_6 (<span style=\"color: #0087ff; text-decoration-color: #0087ff\">Dense</span>)     │ (<span style=\"color: #00d7ff; text-decoration-color: #00d7ff\">None</span>, <span style=\"color: #00af00; text-decoration-color: #00af00\">128</span>)       │      <span style=\"color: #00af00; text-decoration-color: #00af00\">1,536</span> │ input_layer_2[<span style=\"color: #00af00; text-decoration-color: #00af00\">0</span>]… │\n",
              "├─────────────────────┼───────────────────┼────────────┼───────────────────┤\n",
              "│ dense_7 (<span style=\"color: #0087ff; text-decoration-color: #0087ff\">Dense</span>)     │ (<span style=\"color: #00d7ff; text-decoration-color: #00d7ff\">None</span>, <span style=\"color: #00af00; text-decoration-color: #00af00\">64</span>)        │      <span style=\"color: #00af00; text-decoration-color: #00af00\">8,256</span> │ dense_6[<span style=\"color: #00af00; text-decoration-color: #00af00\">0</span>][<span style=\"color: #00af00; text-decoration-color: #00af00\">0</span>]     │\n",
              "├─────────────────────┼───────────────────┼────────────┼───────────────────┤\n",
              "│ dense_8 (<span style=\"color: #0087ff; text-decoration-color: #0087ff\">Dense</span>)     │ (<span style=\"color: #00d7ff; text-decoration-color: #00d7ff\">None</span>, <span style=\"color: #00af00; text-decoration-color: #00af00\">32</span>)        │      <span style=\"color: #00af00; text-decoration-color: #00af00\">2,080</span> │ dense_7[<span style=\"color: #00af00; text-decoration-color: #00af00\">0</span>][<span style=\"color: #00af00; text-decoration-color: #00af00\">0</span>]     │\n",
              "├─────────────────────┼───────────────────┼────────────┼───────────────────┤\n",
              "│ dense_9 (<span style=\"color: #0087ff; text-decoration-color: #0087ff\">Dense</span>)     │ (<span style=\"color: #00d7ff; text-decoration-color: #00d7ff\">None</span>, <span style=\"color: #00af00; text-decoration-color: #00af00\">32</span>)        │      <span style=\"color: #00af00; text-decoration-color: #00af00\">2,080</span> │ dense_7[<span style=\"color: #00af00; text-decoration-color: #00af00\">0</span>][<span style=\"color: #00af00; text-decoration-color: #00af00\">0</span>]     │\n",
              "├─────────────────────┼───────────────────┼────────────┼───────────────────┤\n",
              "│ department_output   │ (<span style=\"color: #00d7ff; text-decoration-color: #00d7ff\">None</span>, <span style=\"color: #00af00; text-decoration-color: #00af00\">3</span>)         │         <span style=\"color: #00af00; text-decoration-color: #00af00\">99</span> │ dense_8[<span style=\"color: #00af00; text-decoration-color: #00af00\">0</span>][<span style=\"color: #00af00; text-decoration-color: #00af00\">0</span>]     │\n",
              "│ (<span style=\"color: #0087ff; text-decoration-color: #0087ff\">Dense</span>)             │                   │            │                   │\n",
              "├─────────────────────┼───────────────────┼────────────┼───────────────────┤\n",
              "│ attrition_output    │ (<span style=\"color: #00d7ff; text-decoration-color: #00d7ff\">None</span>, <span style=\"color: #00af00; text-decoration-color: #00af00\">1</span>)         │         <span style=\"color: #00af00; text-decoration-color: #00af00\">33</span> │ dense_9[<span style=\"color: #00af00; text-decoration-color: #00af00\">0</span>][<span style=\"color: #00af00; text-decoration-color: #00af00\">0</span>]     │\n",
              "│ (<span style=\"color: #0087ff; text-decoration-color: #0087ff\">Dense</span>)             │                   │            │                   │\n",
              "└─────────────────────┴───────────────────┴────────────┴───────────────────┘\n",
              "</pre>\n"
            ],
            "text/plain": [
              "┏━━━━━━━━━━━━━━━━━━━━━┳━━━━━━━━━━━━━━━━━━━┳━━━━━━━━━━━━┳━━━━━━━━━━━━━━━━━━━┓\n",
              "┃\u001b[1m \u001b[0m\u001b[1mLayer (type)       \u001b[0m\u001b[1m \u001b[0m┃\u001b[1m \u001b[0m\u001b[1mOutput Shape     \u001b[0m\u001b[1m \u001b[0m┃\u001b[1m \u001b[0m\u001b[1m   Param #\u001b[0m\u001b[1m \u001b[0m┃\u001b[1m \u001b[0m\u001b[1mConnected to     \u001b[0m\u001b[1m \u001b[0m┃\n",
              "┡━━━━━━━━━━━━━━━━━━━━━╇━━━━━━━━━━━━━━━━━━━╇━━━━━━━━━━━━╇━━━━━━━━━━━━━━━━━━━┩\n",
              "│ input_layer_2       │ (\u001b[38;5;45mNone\u001b[0m, \u001b[38;5;34m11\u001b[0m)        │          \u001b[38;5;34m0\u001b[0m │ -                 │\n",
              "│ (\u001b[38;5;33mInputLayer\u001b[0m)        │                   │            │                   │\n",
              "├─────────────────────┼───────────────────┼────────────┼───────────────────┤\n",
              "│ dense_6 (\u001b[38;5;33mDense\u001b[0m)     │ (\u001b[38;5;45mNone\u001b[0m, \u001b[38;5;34m128\u001b[0m)       │      \u001b[38;5;34m1,536\u001b[0m │ input_layer_2[\u001b[38;5;34m0\u001b[0m]… │\n",
              "├─────────────────────┼───────────────────┼────────────┼───────────────────┤\n",
              "│ dense_7 (\u001b[38;5;33mDense\u001b[0m)     │ (\u001b[38;5;45mNone\u001b[0m, \u001b[38;5;34m64\u001b[0m)        │      \u001b[38;5;34m8,256\u001b[0m │ dense_6[\u001b[38;5;34m0\u001b[0m][\u001b[38;5;34m0\u001b[0m]     │\n",
              "├─────────────────────┼───────────────────┼────────────┼───────────────────┤\n",
              "│ dense_8 (\u001b[38;5;33mDense\u001b[0m)     │ (\u001b[38;5;45mNone\u001b[0m, \u001b[38;5;34m32\u001b[0m)        │      \u001b[38;5;34m2,080\u001b[0m │ dense_7[\u001b[38;5;34m0\u001b[0m][\u001b[38;5;34m0\u001b[0m]     │\n",
              "├─────────────────────┼───────────────────┼────────────┼───────────────────┤\n",
              "│ dense_9 (\u001b[38;5;33mDense\u001b[0m)     │ (\u001b[38;5;45mNone\u001b[0m, \u001b[38;5;34m32\u001b[0m)        │      \u001b[38;5;34m2,080\u001b[0m │ dense_7[\u001b[38;5;34m0\u001b[0m][\u001b[38;5;34m0\u001b[0m]     │\n",
              "├─────────────────────┼───────────────────┼────────────┼───────────────────┤\n",
              "│ department_output   │ (\u001b[38;5;45mNone\u001b[0m, \u001b[38;5;34m3\u001b[0m)         │         \u001b[38;5;34m99\u001b[0m │ dense_8[\u001b[38;5;34m0\u001b[0m][\u001b[38;5;34m0\u001b[0m]     │\n",
              "│ (\u001b[38;5;33mDense\u001b[0m)             │                   │            │                   │\n",
              "├─────────────────────┼───────────────────┼────────────┼───────────────────┤\n",
              "│ attrition_output    │ (\u001b[38;5;45mNone\u001b[0m, \u001b[38;5;34m1\u001b[0m)         │         \u001b[38;5;34m33\u001b[0m │ dense_9[\u001b[38;5;34m0\u001b[0m][\u001b[38;5;34m0\u001b[0m]     │\n",
              "│ (\u001b[38;5;33mDense\u001b[0m)             │                   │            │                   │\n",
              "└─────────────────────┴───────────────────┴────────────┴───────────────────┘\n"
            ]
          },
          "metadata": {},
          "output_type": "display_data"
        },
        {
          "data": {
            "text/html": [
              "<pre style=\"white-space:pre;overflow-x:auto;line-height:normal;font-family:Menlo,'DejaVu Sans Mono',consolas,'Courier New',monospace\"><span style=\"font-weight: bold\"> Total params: </span><span style=\"color: #00af00; text-decoration-color: #00af00\">14,084</span> (55.02 KB)\n",
              "</pre>\n"
            ],
            "text/plain": [
              "\u001b[1m Total params: \u001b[0m\u001b[38;5;34m14,084\u001b[0m (55.02 KB)\n"
            ]
          },
          "metadata": {},
          "output_type": "display_data"
        },
        {
          "data": {
            "text/html": [
              "<pre style=\"white-space:pre;overflow-x:auto;line-height:normal;font-family:Menlo,'DejaVu Sans Mono',consolas,'Courier New',monospace\"><span style=\"font-weight: bold\"> Trainable params: </span><span style=\"color: #00af00; text-decoration-color: #00af00\">14,084</span> (55.02 KB)\n",
              "</pre>\n"
            ],
            "text/plain": [
              "\u001b[1m Trainable params: \u001b[0m\u001b[38;5;34m14,084\u001b[0m (55.02 KB)\n"
            ]
          },
          "metadata": {},
          "output_type": "display_data"
        },
        {
          "data": {
            "text/html": [
              "<pre style=\"white-space:pre;overflow-x:auto;line-height:normal;font-family:Menlo,'DejaVu Sans Mono',consolas,'Courier New',monospace\"><span style=\"font-weight: bold\"> Non-trainable params: </span><span style=\"color: #00af00; text-decoration-color: #00af00\">0</span> (0.00 B)\n",
              "</pre>\n"
            ],
            "text/plain": [
              "\u001b[1m Non-trainable params: \u001b[0m\u001b[38;5;34m0\u001b[0m (0.00 B)\n"
            ]
          },
          "metadata": {},
          "output_type": "display_data"
        }
      ],
      "source": [
        "# Create the model\n",
        "model = Model(inputs=input_layer, outputs=[department_output, attrition_output])\n",
        "\n",
        "# Compile the model\n",
        "model.compile(optimizer='adam',\n",
        "                loss={'department_output': 'categorical_crossentropy', 'attrition_output': 'binary_crossentropy'},\n",
        "                metrics={'department_output': 'accuracy', 'attrition_output': 'accuracy'})\n",
        "\n",
        "# Summarize the model\n",
        "model.summary()"
      ]
    },
    {
      "cell_type": "code",
      "execution_count": 53,
      "metadata": {
        "colab": {
          "base_uri": "https://localhost:8080/"
        },
        "id": "c8oGy0dpGc3U",
        "outputId": "cc667d43-28cf-42d4-d719-c2bc02888d30"
      },
      "outputs": [
        {
          "name": "stdout",
          "output_type": "stream",
          "text": [
            "Epoch 1/100\n",
            "35/35 - 1s - 23ms/step - attrition_output_accuracy: 0.8258 - attrition_output_loss: 0.4857 - department_output_accuracy: 0.6234 - department_output_loss: 0.8526 - loss: 1.3447\n",
            "Epoch 2/100\n",
            "35/35 - 0s - 2ms/step - attrition_output_accuracy: 0.8276 - attrition_output_loss: 0.4170 - department_output_accuracy: 0.6661 - department_output_loss: 0.7620 - loss: 1.1782\n",
            "Epoch 3/100\n",
            "35/35 - 0s - 2ms/step - attrition_output_accuracy: 0.8412 - attrition_output_loss: 0.3961 - department_output_accuracy: 0.6652 - department_output_loss: 0.7441 - loss: 1.1420\n",
            "Epoch 4/100\n",
            "35/35 - 0s - 2ms/step - attrition_output_accuracy: 0.8548 - attrition_output_loss: 0.3774 - department_output_accuracy: 0.6661 - department_output_loss: 0.7381 - loss: 1.1168\n",
            "Epoch 5/100\n",
            "35/35 - 0s - 2ms/step - attrition_output_accuracy: 0.8584 - attrition_output_loss: 0.3693 - department_output_accuracy: 0.6679 - department_output_loss: 0.7330 - loss: 1.0996\n",
            "Epoch 6/100\n",
            "35/35 - 0s - 2ms/step - attrition_output_accuracy: 0.8584 - attrition_output_loss: 0.3519 - department_output_accuracy: 0.6697 - department_output_loss: 0.7225 - loss: 1.0790\n",
            "Epoch 7/100\n",
            "35/35 - 0s - 2ms/step - attrition_output_accuracy: 0.8575 - attrition_output_loss: 0.3503 - department_output_accuracy: 0.6806 - department_output_loss: 0.7169 - loss: 1.0667\n",
            "Epoch 8/100\n",
            "35/35 - 0s - 2ms/step - attrition_output_accuracy: 0.8711 - attrition_output_loss: 0.3339 - department_output_accuracy: 0.6760 - department_output_loss: 0.7137 - loss: 1.0475\n",
            "Epoch 9/100\n",
            "35/35 - 0s - 2ms/step - attrition_output_accuracy: 0.8702 - attrition_output_loss: 0.3284 - department_output_accuracy: 0.6779 - department_output_loss: 0.7064 - loss: 1.0315\n",
            "Epoch 10/100\n",
            "35/35 - 0s - 2ms/step - attrition_output_accuracy: 0.8684 - attrition_output_loss: 0.3286 - department_output_accuracy: 0.6906 - department_output_loss: 0.6933 - loss: 1.0249\n",
            "Epoch 11/100\n",
            "35/35 - 0s - 2ms/step - attrition_output_accuracy: 0.8702 - attrition_output_loss: 0.3123 - department_output_accuracy: 0.6887 - department_output_loss: 0.6857 - loss: 1.0011\n",
            "Epoch 12/100\n",
            "35/35 - 0s - 2ms/step - attrition_output_accuracy: 0.8820 - attrition_output_loss: 0.3046 - department_output_accuracy: 0.6906 - department_output_loss: 0.6816 - loss: 0.9849\n",
            "Epoch 13/100\n",
            "35/35 - 0s - 2ms/step - attrition_output_accuracy: 0.8884 - attrition_output_loss: 0.2968 - department_output_accuracy: 0.6951 - department_output_loss: 0.6801 - loss: 0.9757\n",
            "Epoch 14/100\n",
            "35/35 - 0s - 2ms/step - attrition_output_accuracy: 0.8848 - attrition_output_loss: 0.2944 - department_output_accuracy: 0.6996 - department_output_loss: 0.6588 - loss: 0.9562\n",
            "Epoch 15/100\n",
            "35/35 - 0s - 2ms/step - attrition_output_accuracy: 0.8947 - attrition_output_loss: 0.2823 - department_output_accuracy: 0.7051 - department_output_loss: 0.6499 - loss: 0.9376\n",
            "Epoch 16/100\n",
            "35/35 - 0s - 2ms/step - attrition_output_accuracy: 0.8929 - attrition_output_loss: 0.2924 - department_output_accuracy: 0.7214 - department_output_loss: 0.6404 - loss: 0.9270\n",
            "Epoch 17/100\n",
            "35/35 - 0s - 1ms/step - attrition_output_accuracy: 0.8938 - attrition_output_loss: 0.2741 - department_output_accuracy: 0.7269 - department_output_loss: 0.6335 - loss: 0.9030\n",
            "Epoch 18/100\n",
            "35/35 - 0s - 1ms/step - attrition_output_accuracy: 0.8966 - attrition_output_loss: 0.2688 - department_output_accuracy: 0.7305 - department_output_loss: 0.6205 - loss: 0.8875\n",
            "Epoch 19/100\n",
            "35/35 - 0s - 1ms/step - attrition_output_accuracy: 0.8956 - attrition_output_loss: 0.2758 - department_output_accuracy: 0.7241 - department_output_loss: 0.6153 - loss: 0.8906\n",
            "Epoch 20/100\n",
            "35/35 - 0s - 1ms/step - attrition_output_accuracy: 0.9020 - attrition_output_loss: 0.2586 - department_output_accuracy: 0.7450 - department_output_loss: 0.5883 - loss: 0.8448\n",
            "Epoch 21/100\n",
            "35/35 - 0s - 1ms/step - attrition_output_accuracy: 0.8947 - attrition_output_loss: 0.2483 - department_output_accuracy: 0.7459 - department_output_loss: 0.5853 - loss: 0.8369\n",
            "Epoch 22/100\n",
            "35/35 - 0s - 1ms/step - attrition_output_accuracy: 0.9011 - attrition_output_loss: 0.2429 - department_output_accuracy: 0.7577 - department_output_loss: 0.5693 - loss: 0.8140\n",
            "Epoch 23/100\n",
            "35/35 - 0s - 1ms/step - attrition_output_accuracy: 0.9047 - attrition_output_loss: 0.2363 - department_output_accuracy: 0.7623 - department_output_loss: 0.5584 - loss: 0.7971\n",
            "Epoch 24/100\n",
            "35/35 - 0s - 1ms/step - attrition_output_accuracy: 0.9120 - attrition_output_loss: 0.2280 - department_output_accuracy: 0.7577 - department_output_loss: 0.5591 - loss: 0.7880\n",
            "Epoch 25/100\n",
            "35/35 - 0s - 3ms/step - attrition_output_accuracy: 0.9111 - attrition_output_loss: 0.2286 - department_output_accuracy: 0.7632 - department_output_loss: 0.5465 - loss: 0.7710\n",
            "Epoch 26/100\n",
            "35/35 - 0s - 1ms/step - attrition_output_accuracy: 0.9102 - attrition_output_loss: 0.2182 - department_output_accuracy: 0.7895 - department_output_loss: 0.5130 - loss: 0.7369\n",
            "Epoch 27/100\n",
            "35/35 - 0s - 1ms/step - attrition_output_accuracy: 0.9147 - attrition_output_loss: 0.2177 - department_output_accuracy: 0.7777 - department_output_loss: 0.5186 - loss: 0.7379\n",
            "Epoch 28/100\n",
            "35/35 - 0s - 1ms/step - attrition_output_accuracy: 0.9120 - attrition_output_loss: 0.2067 - department_output_accuracy: 0.7858 - department_output_loss: 0.4969 - loss: 0.7074\n",
            "Epoch 29/100\n",
            "35/35 - 0s - 1ms/step - attrition_output_accuracy: 0.9247 - attrition_output_loss: 0.2118 - department_output_accuracy: 0.8203 - department_output_loss: 0.4900 - loss: 0.6882\n",
            "Epoch 30/100\n",
            "35/35 - 0s - 1ms/step - attrition_output_accuracy: 0.9247 - attrition_output_loss: 0.2020 - department_output_accuracy: 0.8249 - department_output_loss: 0.4754 - loss: 0.6752\n",
            "Epoch 31/100\n",
            "35/35 - 0s - 1ms/step - attrition_output_accuracy: 0.9165 - attrition_output_loss: 0.2016 - department_output_accuracy: 0.8339 - department_output_loss: 0.4651 - loss: 0.6617\n",
            "Epoch 32/100\n",
            "35/35 - 0s - 1ms/step - attrition_output_accuracy: 0.9301 - attrition_output_loss: 0.1859 - department_output_accuracy: 0.8176 - department_output_loss: 0.4446 - loss: 0.6322\n",
            "Epoch 33/100\n",
            "35/35 - 0s - 1ms/step - attrition_output_accuracy: 0.9347 - attrition_output_loss: 0.1809 - department_output_accuracy: 0.8348 - department_output_loss: 0.4418 - loss: 0.6199\n",
            "Epoch 34/100\n",
            "35/35 - 0s - 1ms/step - attrition_output_accuracy: 0.9301 - attrition_output_loss: 0.1818 - department_output_accuracy: 0.8376 - department_output_loss: 0.4326 - loss: 0.6060\n",
            "Epoch 35/100\n",
            "35/35 - 0s - 1ms/step - attrition_output_accuracy: 0.9356 - attrition_output_loss: 0.1750 - department_output_accuracy: 0.8593 - department_output_loss: 0.4060 - loss: 0.5787\n",
            "Epoch 36/100\n",
            "35/35 - 0s - 1ms/step - attrition_output_accuracy: 0.9392 - attrition_output_loss: 0.1663 - department_output_accuracy: 0.8367 - department_output_loss: 0.4084 - loss: 0.5693\n",
            "Epoch 37/100\n",
            "35/35 - 0s - 1ms/step - attrition_output_accuracy: 0.9401 - attrition_output_loss: 0.1580 - department_output_accuracy: 0.8666 - department_output_loss: 0.3783 - loss: 0.5386\n",
            "Epoch 38/100\n",
            "35/35 - 0s - 1ms/step - attrition_output_accuracy: 0.9410 - attrition_output_loss: 0.1566 - department_output_accuracy: 0.8730 - department_output_loss: 0.3662 - loss: 0.5243\n",
            "Epoch 39/100\n",
            "35/35 - 0s - 1ms/step - attrition_output_accuracy: 0.9410 - attrition_output_loss: 0.1518 - department_output_accuracy: 0.8666 - department_output_loss: 0.3591 - loss: 0.5102\n",
            "Epoch 40/100\n",
            "35/35 - 0s - 1ms/step - attrition_output_accuracy: 0.9465 - attrition_output_loss: 0.1474 - department_output_accuracy: 0.8775 - department_output_loss: 0.3494 - loss: 0.4982\n",
            "Epoch 41/100\n",
            "35/35 - 0s - 1ms/step - attrition_output_accuracy: 0.9519 - attrition_output_loss: 0.1414 - department_output_accuracy: 0.8966 - department_output_loss: 0.3250 - loss: 0.4653\n",
            "Epoch 42/100\n",
            "35/35 - 0s - 1ms/step - attrition_output_accuracy: 0.9555 - attrition_output_loss: 0.1358 - department_output_accuracy: 0.8775 - department_output_loss: 0.3335 - loss: 0.4697\n",
            "Epoch 43/100\n",
            "35/35 - 0s - 1ms/step - attrition_output_accuracy: 0.9501 - attrition_output_loss: 0.1353 - department_output_accuracy: 0.8920 - department_output_loss: 0.3117 - loss: 0.4493\n",
            "Epoch 44/100\n",
            "35/35 - 0s - 1ms/step - attrition_output_accuracy: 0.9574 - attrition_output_loss: 0.1330 - department_output_accuracy: 0.9002 - department_output_loss: 0.2998 - loss: 0.4297\n",
            "Epoch 45/100\n",
            "35/35 - 0s - 1ms/step - attrition_output_accuracy: 0.9601 - attrition_output_loss: 0.1305 - department_output_accuracy: 0.9029 - department_output_loss: 0.2998 - loss: 0.4321\n",
            "Epoch 46/100\n",
            "35/35 - 0s - 1ms/step - attrition_output_accuracy: 0.9583 - attrition_output_loss: 0.1211 - department_output_accuracy: 0.9029 - department_output_loss: 0.2846 - loss: 0.4056\n",
            "Epoch 47/100\n",
            "35/35 - 0s - 1ms/step - attrition_output_accuracy: 0.9673 - attrition_output_loss: 0.1126 - department_output_accuracy: 0.9038 - department_output_loss: 0.2770 - loss: 0.3901\n",
            "Epoch 48/100\n",
            "35/35 - 0s - 1ms/step - attrition_output_accuracy: 0.9619 - attrition_output_loss: 0.1167 - department_output_accuracy: 0.9093 - department_output_loss: 0.2704 - loss: 0.3850\n",
            "Epoch 49/100\n",
            "35/35 - 0s - 1ms/step - attrition_output_accuracy: 0.9664 - attrition_output_loss: 0.1085 - department_output_accuracy: 0.9165 - department_output_loss: 0.2545 - loss: 0.3617\n",
            "Epoch 50/100\n",
            "35/35 - 0s - 1ms/step - attrition_output_accuracy: 0.9655 - attrition_output_loss: 0.1079 - department_output_accuracy: 0.9147 - department_output_loss: 0.2534 - loss: 0.3622\n",
            "Epoch 51/100\n",
            "35/35 - 0s - 1ms/step - attrition_output_accuracy: 0.9601 - attrition_output_loss: 0.1112 - department_output_accuracy: 0.9174 - department_output_loss: 0.2484 - loss: 0.3579\n",
            "Epoch 52/100\n",
            "35/35 - 0s - 1ms/step - attrition_output_accuracy: 0.9619 - attrition_output_loss: 0.1061 - department_output_accuracy: 0.9229 - department_output_loss: 0.2365 - loss: 0.3437\n",
            "Epoch 53/100\n",
            "35/35 - 0s - 1ms/step - attrition_output_accuracy: 0.9773 - attrition_output_loss: 0.0958 - department_output_accuracy: 0.9238 - department_output_loss: 0.2360 - loss: 0.3332\n",
            "Epoch 54/100\n",
            "35/35 - 0s - 1ms/step - attrition_output_accuracy: 0.9655 - attrition_output_loss: 0.0970 - department_output_accuracy: 0.9356 - department_output_loss: 0.2079 - loss: 0.3055\n",
            "Epoch 55/100\n",
            "35/35 - 0s - 1ms/step - attrition_output_accuracy: 0.9710 - attrition_output_loss: 0.0887 - department_output_accuracy: 0.9328 - department_output_loss: 0.2118 - loss: 0.3035\n",
            "Epoch 56/100\n",
            "35/35 - 0s - 1ms/step - attrition_output_accuracy: 0.9764 - attrition_output_loss: 0.0863 - department_output_accuracy: 0.9465 - department_output_loss: 0.1941 - loss: 0.2799\n",
            "Epoch 57/100\n",
            "35/35 - 0s - 1ms/step - attrition_output_accuracy: 0.9773 - attrition_output_loss: 0.0797 - department_output_accuracy: 0.9356 - department_output_loss: 0.1967 - loss: 0.2758\n",
            "Epoch 58/100\n",
            "35/35 - 0s - 1ms/step - attrition_output_accuracy: 0.9800 - attrition_output_loss: 0.0784 - department_output_accuracy: 0.9383 - department_output_loss: 0.1892 - loss: 0.2656\n",
            "Epoch 59/100\n",
            "35/35 - 0s - 1ms/step - attrition_output_accuracy: 0.9755 - attrition_output_loss: 0.0816 - department_output_accuracy: 0.9574 - department_output_loss: 0.1686 - loss: 0.2510\n",
            "Epoch 60/100\n",
            "35/35 - 0s - 1ms/step - attrition_output_accuracy: 0.9782 - attrition_output_loss: 0.0737 - department_output_accuracy: 0.9492 - department_output_loss: 0.1645 - loss: 0.2395\n",
            "Epoch 61/100\n",
            "35/35 - 0s - 1ms/step - attrition_output_accuracy: 0.9819 - attrition_output_loss: 0.0693 - department_output_accuracy: 0.9564 - department_output_loss: 0.1662 - loss: 0.2346\n",
            "Epoch 62/100\n",
            "35/35 - 0s - 1ms/step - attrition_output_accuracy: 0.9864 - attrition_output_loss: 0.0702 - department_output_accuracy: 0.9619 - department_output_loss: 0.1524 - loss: 0.2204\n",
            "Epoch 63/100\n",
            "35/35 - 0s - 1ms/step - attrition_output_accuracy: 0.9746 - attrition_output_loss: 0.0775 - department_output_accuracy: 0.9601 - department_output_loss: 0.1484 - loss: 0.2236\n",
            "Epoch 64/100\n",
            "35/35 - 0s - 1ms/step - attrition_output_accuracy: 0.9855 - attrition_output_loss: 0.0601 - department_output_accuracy: 0.9610 - department_output_loss: 0.1464 - loss: 0.2058\n",
            "Epoch 65/100\n",
            "35/35 - 0s - 1ms/step - attrition_output_accuracy: 0.9846 - attrition_output_loss: 0.0583 - department_output_accuracy: 0.9537 - department_output_loss: 0.1485 - loss: 0.2084\n",
            "Epoch 66/100\n",
            "35/35 - 0s - 1ms/step - attrition_output_accuracy: 0.9846 - attrition_output_loss: 0.0528 - department_output_accuracy: 0.9691 - department_output_loss: 0.1316 - loss: 0.1844\n",
            "Epoch 67/100\n",
            "35/35 - 0s - 2ms/step - attrition_output_accuracy: 0.9846 - attrition_output_loss: 0.0639 - department_output_accuracy: 0.9610 - department_output_loss: 0.1457 - loss: 0.2020\n",
            "Epoch 68/100\n",
            "35/35 - 0s - 1ms/step - attrition_output_accuracy: 0.9755 - attrition_output_loss: 0.0740 - department_output_accuracy: 0.9510 - department_output_loss: 0.1494 - loss: 0.2226\n",
            "Epoch 69/100\n",
            "35/35 - 0s - 2ms/step - attrition_output_accuracy: 0.9891 - attrition_output_loss: 0.0510 - department_output_accuracy: 0.9691 - department_output_loss: 0.1185 - loss: 0.1717\n",
            "Epoch 70/100\n",
            "35/35 - 0s - 3ms/step - attrition_output_accuracy: 0.9909 - attrition_output_loss: 0.0450 - department_output_accuracy: 0.9673 - department_output_loss: 0.1213 - loss: 0.1647\n",
            "Epoch 71/100\n",
            "35/35 - 0s - 2ms/step - attrition_output_accuracy: 0.9837 - attrition_output_loss: 0.0539 - department_output_accuracy: 0.9728 - department_output_loss: 0.1081 - loss: 0.1635\n",
            "Epoch 72/100\n",
            "35/35 - 0s - 3ms/step - attrition_output_accuracy: 0.9909 - attrition_output_loss: 0.0522 - department_output_accuracy: 0.9691 - department_output_loss: 0.1177 - loss: 0.1686\n",
            "Epoch 73/100\n",
            "35/35 - 0s - 2ms/step - attrition_output_accuracy: 0.9864 - attrition_output_loss: 0.0484 - department_output_accuracy: 0.9728 - department_output_loss: 0.1143 - loss: 0.1641\n",
            "Epoch 74/100\n",
            "35/35 - 0s - 2ms/step - attrition_output_accuracy: 0.9900 - attrition_output_loss: 0.0456 - department_output_accuracy: 0.9819 - department_output_loss: 0.0948 - loss: 0.1409\n",
            "Epoch 75/100\n",
            "35/35 - 0s - 2ms/step - attrition_output_accuracy: 0.9891 - attrition_output_loss: 0.0438 - department_output_accuracy: 0.9837 - department_output_loss: 0.0873 - loss: 0.1284\n",
            "Epoch 76/100\n",
            "35/35 - 0s - 2ms/step - attrition_output_accuracy: 0.9918 - attrition_output_loss: 0.0394 - department_output_accuracy: 0.9864 - department_output_loss: 0.0857 - loss: 0.1243\n",
            "Epoch 77/100\n",
            "35/35 - 0s - 2ms/step - attrition_output_accuracy: 0.9891 - attrition_output_loss: 0.0374 - department_output_accuracy: 0.9873 - department_output_loss: 0.0802 - loss: 0.1170\n",
            "Epoch 78/100\n",
            "35/35 - 0s - 2ms/step - attrition_output_accuracy: 0.9900 - attrition_output_loss: 0.0357 - department_output_accuracy: 0.9819 - department_output_loss: 0.0854 - loss: 0.1206\n",
            "Epoch 79/100\n",
            "35/35 - 0s - 2ms/step - attrition_output_accuracy: 0.9918 - attrition_output_loss: 0.0344 - department_output_accuracy: 0.9828 - department_output_loss: 0.0851 - loss: 0.1203\n",
            "Epoch 80/100\n",
            "35/35 - 0s - 2ms/step - attrition_output_accuracy: 0.9927 - attrition_output_loss: 0.0307 - department_output_accuracy: 0.9828 - department_output_loss: 0.0807 - loss: 0.1121\n",
            "Epoch 81/100\n",
            "35/35 - 0s - 2ms/step - attrition_output_accuracy: 0.9955 - attrition_output_loss: 0.0314 - department_output_accuracy: 0.9846 - department_output_loss: 0.0803 - loss: 0.1122\n",
            "Epoch 82/100\n",
            "35/35 - 0s - 2ms/step - attrition_output_accuracy: 0.9927 - attrition_output_loss: 0.0315 - department_output_accuracy: 0.9828 - department_output_loss: 0.0767 - loss: 0.1091\n",
            "Epoch 83/100\n",
            "35/35 - 0s - 2ms/step - attrition_output_accuracy: 0.9927 - attrition_output_loss: 0.0311 - department_output_accuracy: 0.9855 - department_output_loss: 0.0682 - loss: 0.0999\n",
            "Epoch 84/100\n",
            "35/35 - 0s - 1ms/step - attrition_output_accuracy: 0.9927 - attrition_output_loss: 0.0305 - department_output_accuracy: 0.9900 - department_output_loss: 0.0660 - loss: 0.0971\n",
            "Epoch 85/100\n",
            "35/35 - 0s - 3ms/step - attrition_output_accuracy: 0.9927 - attrition_output_loss: 0.0274 - department_output_accuracy: 0.9891 - department_output_loss: 0.0617 - loss: 0.0895\n",
            "Epoch 86/100\n",
            "35/35 - 0s - 1ms/step - attrition_output_accuracy: 0.9927 - attrition_output_loss: 0.0305 - department_output_accuracy: 0.9846 - department_output_loss: 0.0747 - loss: 0.1065\n",
            "Epoch 87/100\n",
            "35/35 - 0s - 1ms/step - attrition_output_accuracy: 0.9918 - attrition_output_loss: 0.0317 - department_output_accuracy: 0.9882 - department_output_loss: 0.0605 - loss: 0.0925\n",
            "Epoch 88/100\n",
            "35/35 - 0s - 2ms/step - attrition_output_accuracy: 0.9964 - attrition_output_loss: 0.0260 - department_output_accuracy: 0.9909 - department_output_loss: 0.0580 - loss: 0.0844\n",
            "Epoch 89/100\n",
            "35/35 - 0s - 1ms/step - attrition_output_accuracy: 0.9964 - attrition_output_loss: 0.0231 - department_output_accuracy: 0.9927 - department_output_loss: 0.0490 - loss: 0.0727\n",
            "Epoch 90/100\n",
            "35/35 - 0s - 1ms/step - attrition_output_accuracy: 0.9955 - attrition_output_loss: 0.0230 - department_output_accuracy: 0.9864 - department_output_loss: 0.0578 - loss: 0.0798\n",
            "Epoch 91/100\n",
            "35/35 - 0s - 1ms/step - attrition_output_accuracy: 0.9964 - attrition_output_loss: 0.0217 - department_output_accuracy: 0.9846 - department_output_loss: 0.0633 - loss: 0.0857\n",
            "Epoch 92/100\n",
            "35/35 - 0s - 1ms/step - attrition_output_accuracy: 0.9973 - attrition_output_loss: 0.0223 - department_output_accuracy: 0.9927 - department_output_loss: 0.0560 - loss: 0.0755\n",
            "Epoch 93/100\n",
            "35/35 - 0s - 1ms/step - attrition_output_accuracy: 0.9955 - attrition_output_loss: 0.0209 - department_output_accuracy: 0.9946 - department_output_loss: 0.0453 - loss: 0.0661\n",
            "Epoch 94/100\n",
            "35/35 - 0s - 1ms/step - attrition_output_accuracy: 0.9964 - attrition_output_loss: 0.0248 - department_output_accuracy: 0.9837 - department_output_loss: 0.0634 - loss: 0.0857\n",
            "Epoch 95/100\n",
            "35/35 - 0s - 1ms/step - attrition_output_accuracy: 0.9936 - attrition_output_loss: 0.0238 - department_output_accuracy: 0.9873 - department_output_loss: 0.0563 - loss: 0.0806\n",
            "Epoch 96/100\n",
            "35/35 - 0s - 1ms/step - attrition_output_accuracy: 0.9946 - attrition_output_loss: 0.0238 - department_output_accuracy: 0.9918 - department_output_loss: 0.0496 - loss: 0.0740\n",
            "Epoch 97/100\n",
            "35/35 - 0s - 1ms/step - attrition_output_accuracy: 0.9946 - attrition_output_loss: 0.0188 - department_output_accuracy: 0.9891 - department_output_loss: 0.0523 - loss: 0.0709\n",
            "Epoch 98/100\n",
            "35/35 - 0s - 1ms/step - attrition_output_accuracy: 0.9927 - attrition_output_loss: 0.0267 - department_output_accuracy: 0.9891 - department_output_loss: 0.0546 - loss: 0.0802\n",
            "Epoch 99/100\n",
            "35/35 - 0s - 2ms/step - attrition_output_accuracy: 0.9846 - attrition_output_loss: 0.0480 - department_output_accuracy: 0.9773 - department_output_loss: 0.0838 - loss: 0.1330\n",
            "Epoch 100/100\n",
            "35/35 - 0s - 2ms/step - attrition_output_accuracy: 0.9846 - attrition_output_loss: 0.0452 - department_output_accuracy: 0.9710 - department_output_loss: 0.0864 - loss: 0.1305\n"
          ]
        },
        {
          "data": {
            "text/plain": [
              "<keras.src.callbacks.history.History at 0x3054136a0>"
            ]
          },
          "execution_count": 53,
          "metadata": {},
          "output_type": "execute_result"
        }
      ],
      "source": [
        "# Train the model\n",
        "model.fit(X_train_scaled, \n",
        "            {'department_output': department_encoded_train_df, 'attrition_output': attrition_encoded_train_df},\n",
        "            epochs=100,\n",
        "            batch_size=32,\n",
        "            shuffle=True,\n",
        "            verbose=2)\n"
      ]
    },
    {
      "cell_type": "code",
      "execution_count": 54,
      "metadata": {
        "colab": {
          "base_uri": "https://localhost:8080/"
        },
        "id": "VsMoaQlgGc3U",
        "outputId": "1bd4e601-e964-4abc-ad83-aeecf6b696be"
      },
      "outputs": [
        {
          "name": "stdout",
          "output_type": "stream",
          "text": [
            "\u001b[1m12/12\u001b[0m \u001b[32m━━━━━━━━━━━━━━━━━━━━\u001b[0m\u001b[37m\u001b[0m \u001b[1m0s\u001b[0m 2ms/step - attrition_output_accuracy: 0.8541 - attrition_output_loss: 0.9939 - department_output_accuracy: 0.5266 - department_output_loss: 3.2441 - loss: 4.2445  \n"
          ]
        }
      ],
      "source": [
        "# Evaluate the model with the testing data\n",
        "results = model.evaluate(np.array(X_test_scaled), {\n",
        "    'department_output': department_encoded_test_df,\n",
        "    'attrition_output': attrition_encoded_test_df\n",
        "})"
      ]
    },
    {
      "cell_type": "code",
      "execution_count": 55,
      "metadata": {},
      "outputs": [
        {
          "name": "stdout",
          "output_type": "stream",
          "text": [
            "[4.1571526527404785, 3.0563647747039795, 1.058653712272644, 0.845108687877655, 0.5380434989929199]\n"
          ]
        }
      ],
      "source": [
        "print(results)"
      ]
    },
    {
      "cell_type": "code",
      "execution_count": 56,
      "metadata": {
        "colab": {
          "base_uri": "https://localhost:8080/"
        },
        "id": "ZlCtlHi0Vt54",
        "outputId": "bc21ef3e-80c2-4b38-9c29-79515bc23dec"
      },
      "outputs": [
        {
          "name": "stdout",
          "output_type": "stream",
          "text": [
            "Department Accuracy: 84.51%\n",
            "Attrition Accuracy: 53.80%\n"
          ]
        }
      ],
      "source": [
        "# Print the accuracy for both department and attrition\n",
        "print(f\"Department Accuracy: {results[3]*100:.2f}%\")\n",
        "print(f\"Attrition Accuracy: {results[4]*100:.2f}%\")"
      ]
    },
    {
      "cell_type": "markdown",
      "metadata": {
        "id": "eGSyfsZfWOQM"
      },
      "source": [
        "# Summary\n",
        "\n",
        "In the provided space below, briefly answer the following questions.\n",
        "\n",
        "1. Is accuracy the best metric to use on this data? Why or why not?\n",
        "\n",
        "2. What activation functions did you choose for your output layers, and why?\n",
        "\n",
        "3. Can you name a few ways that this model might be improved?"
      ]
    },
    {
      "cell_type": "markdown",
      "metadata": {
        "id": "pi9SLpFnWvbF"
      },
      "source": [
        "YOUR ANSWERS HERE\n",
        "\n",
        "1. Accuracy may not be the best metric because the dataset is imbalanced. For example, if Attrition has significantly more “No” values than “Yes”, accuracy may give a misleading sense of performance as predicting “No” for all instances could yield high accuracy but poor performance for “Yes”.\n",
        "2. Softmax and Sigmoid\n",
        "    1. I have chosen *Softmax* activation for `Department` output because it is a multi-class classification task since we have 3 departments and there may be unknown departments for prediction and unknown data.\n",
        "    2. I have chosen *Sigmoid* activation for `Attrition` output as it is a binary classification task with possible Yes or No answer to all known and unknown data\n",
        "3. We can possibly do Regularization, Hyperparameter Tuning and Feature Engineering (especially for unbalanced data). We can also adjust the depth of layers and see how model works."
      ]
    },
    {
      "cell_type": "markdown",
      "metadata": {},
      "source": []
    }
  ],
  "metadata": {
    "colab": {
      "provenance": []
    },
    "kernelspec": {
      "display_name": "dev",
      "language": "python",
      "name": "python3"
    },
    "language_info": {
      "codemirror_mode": {
        "name": "ipython",
        "version": 3
      },
      "file_extension": ".py",
      "mimetype": "text/x-python",
      "name": "python",
      "nbconvert_exporter": "python",
      "pygments_lexer": "ipython3",
      "version": "3.10.14"
    }
  },
  "nbformat": 4,
  "nbformat_minor": 0
}
